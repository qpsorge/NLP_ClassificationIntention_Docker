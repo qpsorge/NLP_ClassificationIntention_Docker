{
 "cells": [
  {
   "cell_type": "markdown",
   "metadata": {},
   "source": [
    "## Exercice 1"
   ]
  },
  {
   "cell_type": "code",
   "execution_count": 1,
   "metadata": {},
   "outputs": [],
   "source": [
    "import json \n",
    "import matplotlib.pyplot as plt\n",
    "import urllib\n",
    "import pandas as pd \n",
    "import numpy as np\n",
    "import operator\n",
    "import itertools\n",
    "from sklearn.compose import ColumnTransformer\n",
    "from sklearn.preprocessing import OneHotEncoder\n",
    "from sklearn.metrics import accuracy_score, classification_report, plot_confusion_matrix, roc_auc_score, confusion_matrix, ConfusionMatrixDisplay, balanced_accuracy_score, roc_curve, auc\n",
    "import seaborn as sns"
   ]
  },
  {
   "cell_type": "code",
   "execution_count": 2,
   "metadata": {},
   "outputs": [],
   "source": [
    "# Reading training_set file \n",
    "with open('training_set.json', encoding=\"utf8\") as json_file:\n",
    "    training_data = json.load(json_file)\n",
    "    \n",
    "# Reading testing_set file \n",
    "with open('testing_set.json', encoding=\"utf8\") as json_file:\n",
    "    testing_data = json.load(json_file)"
   ]
  },
  {
   "cell_type": "code",
   "execution_count": 3,
   "metadata": {},
   "outputs": [],
   "source": [
    "# Loading training data \n",
    "df_train = pd.read_json(\"training_set.json\")\n",
    "\n",
    "# Loading test data\n",
    "df_test = pd.read_json(\"testing_set.json\")"
   ]
  },
  {
   "cell_type": "code",
   "execution_count": 4,
   "metadata": {},
   "outputs": [],
   "source": [
    "# Separating the feature (sentence) and the target (intent)\n",
    "x_train = df_train['sentence'].to_numpy()\n",
    "y_train = df_train['intent'].to_numpy()\n",
    "\n",
    "x_test = df_test['sentence'].to_numpy()\n",
    "y_test = df_test['intent'].to_numpy()"
   ]
  },
  {
   "cell_type": "code",
   "execution_count": 5,
   "metadata": {},
   "outputs": [],
   "source": [
    "# Function that returns the sentence's intention (max probability)\n",
    "def prediction(sentence) :\n",
    "    url = \"http://localhost:8080/api/intent?sentence=<\" + urllib.parse.quote(sentence) +\">\"\n",
    "    requete = urllib.request.urlopen(url)\n",
    "    result_requete = json.load(requete)\n",
    "    # Only focuses on the max index \n",
    "    prediction_result = max(result_requete.items(), key=operator.itemgetter(1))[0]\n",
    "    return prediction_result\n",
    "\n",
    "# Function that returns the probability of each class\n",
    "def prediction_vect(sentence) :\n",
    "    url = \"http://localhost:8080/api/intent?sentence=<\" + urllib.parse.quote(sentence) +\">\"\n",
    "    requete = urllib.request.urlopen(url)\n",
    "    result_requete = json.load(requete)\n",
    "    # Only focuses on the max index \n",
    "    prediction_result = list(result_requete.values())\n",
    "    return prediction_result"
   ]
  },
  {
   "cell_type": "code",
   "execution_count": 6,
   "metadata": {},
   "outputs": [],
   "source": [
    "# Function that predicts intentions on all the test set and returns one intention\n",
    "def predictionMaxProba(test_set) :\n",
    "    y_prediction = []\n",
    "    for i in range(len(test_set)):\n",
    "        y_prediction.append(prediction(test_set[i]))\n",
    "    return y_prediction \n",
    "\n",
    "# Prediction on test set (max probability)\n",
    "y_prediction = predictionMaxProba(x_test)\n",
    "\n",
    "# Function that predicts intentions on all the test set and returns each class's probability\n",
    "def predictionProba(test_set) :\n",
    "    y_prediction_vect = []\n",
    "    for i in range(len(test_set)):\n",
    "        y_prediction_vect.append(prediction_vect(test_set[i]))\n",
    "    y_prediction_vect = np.array(y_prediction_vect)\n",
    "    return y_prediction_vect\n",
    "\n",
    "# Prediction on test set (probabilty of each class)\n",
    "y_prediction_vect = predictionProba(x_test)"
   ]
  },
  {
   "cell_type": "markdown",
   "metadata": {},
   "source": [
    "###  Analyse du jeu de données"
   ]
  },
  {
   "cell_type": "code",
   "execution_count": 7,
   "metadata": {},
   "outputs": [
    {
     "name": "stdout",
     "output_type": "stream",
     "text": [
      "<class 'pandas.core.frame.DataFrame'>\n",
      "RangeIndex: 6035 entries, 0 to 6034\n",
      "Data columns (total 2 columns):\n",
      " #   Column    Non-Null Count  Dtype \n",
      "---  ------    --------------  ----- \n",
      " 0   intent    6035 non-null   object\n",
      " 1   sentence  6035 non-null   object\n",
      "dtypes: object(2)\n",
      "memory usage: 94.4+ KB\n"
     ]
    }
   ],
   "source": [
    "df_train.info()"
   ]
  },
  {
   "cell_type": "code",
   "execution_count": 8,
   "metadata": {},
   "outputs": [
    {
     "data": {
      "text/html": [
       "<div>\n",
       "<style scoped>\n",
       "    .dataframe tbody tr th:only-of-type {\n",
       "        vertical-align: middle;\n",
       "    }\n",
       "\n",
       "    .dataframe tbody tr th {\n",
       "        vertical-align: top;\n",
       "    }\n",
       "\n",
       "    .dataframe thead th {\n",
       "        text-align: right;\n",
       "    }\n",
       "</style>\n",
       "<table border=\"1\" class=\"dataframe\">\n",
       "  <thead>\n",
       "    <tr style=\"text-align: right;\">\n",
       "      <th></th>\n",
       "      <th>intent</th>\n",
       "      <th>sentence</th>\n",
       "    </tr>\n",
       "  </thead>\n",
       "  <tbody>\n",
       "    <tr>\n",
       "      <th>count</th>\n",
       "      <td>6035</td>\n",
       "      <td>6035</td>\n",
       "    </tr>\n",
       "    <tr>\n",
       "      <th>unique</th>\n",
       "      <td>8</td>\n",
       "      <td>6035</td>\n",
       "    </tr>\n",
       "    <tr>\n",
       "      <th>top</th>\n",
       "      <td>irrelevant</td>\n",
       "      <td>Comment cela se passe t il si on passe par toi...</td>\n",
       "    </tr>\n",
       "    <tr>\n",
       "      <th>freq</th>\n",
       "      <td>3852</td>\n",
       "      <td>1</td>\n",
       "    </tr>\n",
       "  </tbody>\n",
       "</table>\n",
       "</div>"
      ],
      "text/plain": [
       "            intent                                           sentence\n",
       "count         6035                                               6035\n",
       "unique           8                                               6035\n",
       "top     irrelevant  Comment cela se passe t il si on passe par toi...\n",
       "freq          3852                                                  1"
      ]
     },
     "execution_count": 8,
     "metadata": {},
     "output_type": "execute_result"
    }
   ],
   "source": [
    "df_train.describe()"
   ]
  },
  {
   "cell_type": "code",
   "execution_count": 9,
   "metadata": {},
   "outputs": [
    {
     "data": {
      "text/html": [
       "<div>\n",
       "<style scoped>\n",
       "    .dataframe tbody tr th:only-of-type {\n",
       "        vertical-align: middle;\n",
       "    }\n",
       "\n",
       "    .dataframe tbody tr th {\n",
       "        vertical-align: top;\n",
       "    }\n",
       "\n",
       "    .dataframe thead th {\n",
       "        text-align: right;\n",
       "    }\n",
       "</style>\n",
       "<table border=\"1\" class=\"dataframe\">\n",
       "  <thead>\n",
       "    <tr style=\"text-align: right;\">\n",
       "      <th></th>\n",
       "      <th>sentence</th>\n",
       "    </tr>\n",
       "    <tr>\n",
       "      <th>intent</th>\n",
       "      <th></th>\n",
       "    </tr>\n",
       "  </thead>\n",
       "  <tbody>\n",
       "    <tr>\n",
       "      <th>find-around-me</th>\n",
       "      <td>383</td>\n",
       "    </tr>\n",
       "    <tr>\n",
       "      <th>find-flight</th>\n",
       "      <td>142</td>\n",
       "    </tr>\n",
       "    <tr>\n",
       "      <th>find-hotel</th>\n",
       "      <td>316</td>\n",
       "    </tr>\n",
       "    <tr>\n",
       "      <th>find-restaurant</th>\n",
       "      <td>469</td>\n",
       "    </tr>\n",
       "    <tr>\n",
       "      <th>find-train</th>\n",
       "      <td>143</td>\n",
       "    </tr>\n",
       "    <tr>\n",
       "      <th>irrelevant</th>\n",
       "      <td>3852</td>\n",
       "    </tr>\n",
       "    <tr>\n",
       "      <th>provide-showtimes</th>\n",
       "      <td>117</td>\n",
       "    </tr>\n",
       "    <tr>\n",
       "      <th>purchase</th>\n",
       "      <td>613</td>\n",
       "    </tr>\n",
       "  </tbody>\n",
       "</table>\n",
       "</div>"
      ],
      "text/plain": [
       "                   sentence\n",
       "intent                     \n",
       "find-around-me          383\n",
       "find-flight             142\n",
       "find-hotel              316\n",
       "find-restaurant         469\n",
       "find-train              143\n",
       "irrelevant             3852\n",
       "provide-showtimes       117\n",
       "purchase                613"
      ]
     },
     "execution_count": 9,
     "metadata": {},
     "output_type": "execute_result"
    }
   ],
   "source": [
    "df_train.groupby('intent').count()"
   ]
  },
  {
   "cell_type": "markdown",
   "metadata": {},
   "source": [
    "#### Remarques : Les données d'entraînement ne semblent pas contenir de données nulles. Cette base est constituée de 8 classes et d'un total de 6035 données. La classe majoritaire est la classe 'irrelevant' et contient plus de 3800 données ce qui représente plus de la moitié de jeu de données d'entraînement. Le reste des classes contiennent très peu de données ce qui signifie un grand déséquilibre de ce jeu de données. On peut s'attendre à ce que cela influence les prédictions du modèle. \n"
   ]
  },
  {
   "cell_type": "code",
   "execution_count": 10,
   "metadata": {},
   "outputs": [
    {
     "name": "stdout",
     "output_type": "stream",
     "text": [
      "<class 'pandas.core.frame.DataFrame'>\n",
      "RangeIndex: 1065 entries, 0 to 1064\n",
      "Data columns (total 2 columns):\n",
      " #   Column    Non-Null Count  Dtype \n",
      "---  ------    --------------  ----- \n",
      " 0   intent    1065 non-null   object\n",
      " 1   sentence  1065 non-null   object\n",
      "dtypes: object(2)\n",
      "memory usage: 16.8+ KB\n"
     ]
    }
   ],
   "source": [
    "df_test.info()"
   ]
  },
  {
   "cell_type": "code",
   "execution_count": 11,
   "metadata": {},
   "outputs": [
    {
     "data": {
      "text/html": [
       "<div>\n",
       "<style scoped>\n",
       "    .dataframe tbody tr th:only-of-type {\n",
       "        vertical-align: middle;\n",
       "    }\n",
       "\n",
       "    .dataframe tbody tr th {\n",
       "        vertical-align: top;\n",
       "    }\n",
       "\n",
       "    .dataframe thead th {\n",
       "        text-align: right;\n",
       "    }\n",
       "</style>\n",
       "<table border=\"1\" class=\"dataframe\">\n",
       "  <thead>\n",
       "    <tr style=\"text-align: right;\">\n",
       "      <th></th>\n",
       "      <th>intent</th>\n",
       "      <th>sentence</th>\n",
       "    </tr>\n",
       "  </thead>\n",
       "  <tbody>\n",
       "    <tr>\n",
       "      <th>count</th>\n",
       "      <td>1065</td>\n",
       "      <td>1065</td>\n",
       "    </tr>\n",
       "    <tr>\n",
       "      <th>unique</th>\n",
       "      <td>8</td>\n",
       "      <td>1064</td>\n",
       "    </tr>\n",
       "    <tr>\n",
       "      <th>top</th>\n",
       "      <td>irrelevant</td>\n",
       "      <td>Est ce que tu connais des sites internet sur l...</td>\n",
       "    </tr>\n",
       "    <tr>\n",
       "      <th>freq</th>\n",
       "      <td>677</td>\n",
       "      <td>2</td>\n",
       "    </tr>\n",
       "  </tbody>\n",
       "</table>\n",
       "</div>"
      ],
      "text/plain": [
       "            intent                                           sentence\n",
       "count         1065                                               1065\n",
       "unique           8                                               1064\n",
       "top     irrelevant  Est ce que tu connais des sites internet sur l...\n",
       "freq           677                                                  2"
      ]
     },
     "execution_count": 11,
     "metadata": {},
     "output_type": "execute_result"
    }
   ],
   "source": [
    "df_test.describe()"
   ]
  },
  {
   "cell_type": "code",
   "execution_count": 12,
   "metadata": {},
   "outputs": [
    {
     "data": {
      "text/html": [
       "<div>\n",
       "<style scoped>\n",
       "    .dataframe tbody tr th:only-of-type {\n",
       "        vertical-align: middle;\n",
       "    }\n",
       "\n",
       "    .dataframe tbody tr th {\n",
       "        vertical-align: top;\n",
       "    }\n",
       "\n",
       "    .dataframe thead th {\n",
       "        text-align: right;\n",
       "    }\n",
       "</style>\n",
       "<table border=\"1\" class=\"dataframe\">\n",
       "  <thead>\n",
       "    <tr style=\"text-align: right;\">\n",
       "      <th></th>\n",
       "      <th>sentence</th>\n",
       "    </tr>\n",
       "    <tr>\n",
       "      <th>intent</th>\n",
       "      <th></th>\n",
       "    </tr>\n",
       "  </thead>\n",
       "  <tbody>\n",
       "    <tr>\n",
       "      <th>find-around-me</th>\n",
       "      <td>67</td>\n",
       "    </tr>\n",
       "    <tr>\n",
       "      <th>find-flight</th>\n",
       "      <td>24</td>\n",
       "    </tr>\n",
       "    <tr>\n",
       "      <th>find-hotel</th>\n",
       "      <td>55</td>\n",
       "    </tr>\n",
       "    <tr>\n",
       "      <th>find-restaurant</th>\n",
       "      <td>93</td>\n",
       "    </tr>\n",
       "    <tr>\n",
       "      <th>find-train</th>\n",
       "      <td>21</td>\n",
       "    </tr>\n",
       "    <tr>\n",
       "      <th>irrelevant</th>\n",
       "      <td>677</td>\n",
       "    </tr>\n",
       "    <tr>\n",
       "      <th>provide-showtimes</th>\n",
       "      <td>14</td>\n",
       "    </tr>\n",
       "    <tr>\n",
       "      <th>purchase</th>\n",
       "      <td>114</td>\n",
       "    </tr>\n",
       "  </tbody>\n",
       "</table>\n",
       "</div>"
      ],
      "text/plain": [
       "                   sentence\n",
       "intent                     \n",
       "find-around-me           67\n",
       "find-flight              24\n",
       "find-hotel               55\n",
       "find-restaurant          93\n",
       "find-train               21\n",
       "irrelevant              677\n",
       "provide-showtimes        14\n",
       "purchase                114"
      ]
     },
     "execution_count": 12,
     "metadata": {},
     "output_type": "execute_result"
    }
   ],
   "source": [
    "df_test.groupby('intent').count()"
   ]
  },
  {
   "cell_type": "markdown",
   "metadata": {},
   "source": [
    "#### Remarques : Le jeu de données de test contient 1065 données et ne contient pas non plus de données nulles. Tout comme pour le jeu d'entraînement, la classe 'irrelevant' est majoritaire et contient encore une fois plus de la moitié des données de test. Il faudra donc prêter attention aux métriques que l'on va utiliser pour évaluer les performances de ce modèle."
   ]
  },
  {
   "cell_type": "markdown",
   "metadata": {},
   "source": [
    "### Métriques de classification"
   ]
  },
  {
   "cell_type": "code",
   "execution_count": 13,
   "metadata": {},
   "outputs": [
    {
     "name": "stdout",
     "output_type": "stream",
     "text": [
      "Accuracy : 0.8093896713615023\n"
     ]
    }
   ],
   "source": [
    "# Comparison between y_prediction (prediction on x_test) and the actual results (y-test)\n",
    "accuracy = accuracy_score(y_test, y_prediction)\n",
    "print(\"Accuracy : \" + str(accuracy))"
   ]
  },
  {
   "cell_type": "markdown",
   "metadata": {},
   "source": [
    "##### Remarques :  A première vue, on pourrait penser que le modèle est plutôt fiable car il a une bonne justesse. Il faudrait cependant garder en tête que la base de données est fortement déséquilibrée."
   ]
  },
  {
   "cell_type": "code",
   "execution_count": 14,
   "metadata": {},
   "outputs": [
    {
     "name": "stdout",
     "output_type": "stream",
     "text": [
      "Balanced accuracy score : 0.5270967720223785\n"
     ]
    }
   ],
   "source": [
    "balanced_accuracy = balanced_accuracy_score(y_test, y_prediction)\n",
    "print(\"Balanced accuracy score : \" + str(balanced_accuracy))"
   ]
  },
  {
   "cell_type": "markdown",
   "metadata": {},
   "source": [
    "##### Remarques : La 'balanced accuracy score' calculera la justesse du modèle en prenant en considération le déséquilibre de la base de données sur laquelle il a été entraîné. On peut en conclure que le modèle sera bon pour reconnaître les données correspondantes à la classe 'irrelevant' qui est la classe majoritaire mais beaucoup moins bon pour reconnaître les autres classes."
   ]
  },
  {
   "cell_type": "code",
   "execution_count": 15,
   "metadata": {},
   "outputs": [
    {
     "name": "stdout",
     "output_type": "stream",
     "text": [
      "                   precision    recall  f1-score   support\n",
      "\n",
      "   find-around-me       0.86      0.37      0.52        67\n",
      "      find-flight       0.88      0.29      0.44        24\n",
      "       find-hotel       0.76      0.40      0.52        55\n",
      "  find-restaurant       0.90      0.66      0.76        93\n",
      "       find-train       0.93      0.67      0.78        21\n",
      "       irrelevant       0.80      0.98      0.88       677\n",
      "provide-showtimes       0.80      0.29      0.42        14\n",
      "         purchase       0.82      0.56      0.67       114\n",
      "\n",
      "         accuracy                           0.81      1065\n",
      "        macro avg       0.84      0.53      0.62      1065\n",
      "     weighted avg       0.82      0.81      0.79      1065\n",
      "\n"
     ]
    }
   ],
   "source": [
    "print(classification_report(y_test, y_prediction))"
   ]
  },
  {
   "cell_type": "markdown",
   "metadata": {},
   "source": [
    "##### Remarques : On remarque qu'on a une précision qui est assez haute (et cela pour toutes les classes sauf la classe majoritaire 'irrelevant') tandis que le rappel est plutôt bas. Cela signifie que pour toutes les classes hormi la classe majoritaire, quand il s'agit en effet (par exemple) de la 'classe1' il n'est pas toujours capable de la classer en tant que 'classe1'. Mais quand il classe un élément dans la 'classe1', il s'agit en effet d'un élément de cette classe. \n",
    "##### Il n'y a que pour la classe 'irrelevant' que l'on voit une haute précision et un haut rappel, mais le rappel est supérieur à la précision. Cela signifie que le modèle classe plusieurs éléments comme étant 'irrelevant', qu'ils le soient ou non."
   ]
  },
  {
   "cell_type": "code",
   "execution_count": 16,
   "metadata": {},
   "outputs": [],
   "source": [
    "def plot_cm(y_true, y_pred, cmap, xticks_rotation, normalize):\n",
    "    # Categories\n",
    "    labels = ['find-around-me','find-flight','find-hotel', 'find-restaurant', 'find-train',  'irrelevant', 'provide-showtimes', 'purchase']\n",
    "    # y_true and y_pred are OneHotEncoded, confusion_matrix takes a list of predictions !\n",
    "    cm = confusion_matrix(y_true, y_pred, normalize=normalize)\n",
    "    if normalize == 'true': \n",
    "        for i, j in itertools.product(range(cm.shape[0]), range(cm.shape[1])):\n",
    "            cm[i,j] = format(cm[i, j], '.2f')\n",
    "    disp = ConfusionMatrixDisplay(confusion_matrix=cm)\n",
    "    disp.plot(cmap, ax=None, xticks_rotation='horizontal')\n",
    "    tick_marks = np.arange(len(labels))\n",
    "    plt.xticks(tick_marks, labels, rotation=90, fontsize=12)\n",
    "    plt.yticks(tick_marks, labels, fontsize=12)"
   ]
  },
  {
   "cell_type": "code",
   "execution_count": 17,
   "metadata": {},
   "outputs": [
    {
     "name": "stderr",
     "output_type": "stream",
     "text": [
      "C:\\Users\\hibsb\\Anaconda3\\lib\\site-packages\\sklearn\\utils\\validation.py:71: FutureWarning: Pass include_values=viridis as keyword args. From version 0.25 passing these as positional arguments will result in an error\n",
      "  FutureWarning)\n"
     ]
    },
    {
     "data": {
      "image/png": "[encoded data removed]",
      "text/plain": [
       "<Figure size 432x288 with 2 Axes>"
      ]
     },
     "metadata": {
      "needs_background": "light"
     },
     "output_type": "display_data"
    }
   ],
   "source": [
    "# Plot confusion matrix\n",
    "plot_cm(y_test, y_prediction, 'viridis', 'horizontal', 'true')"
   ]
  },
  {
   "cell_type": "markdown",
   "metadata": {},
   "source": [
    "##### Remarques : On peut déduire de cette matrice de confusion que le modèle classe la majorité des données comme étant 'irrelevant'. Lorsqu'il fait une prédiction, soit il prédit la bonne classe soit il prédit la classe majoritaire. Cela explique les résultats de rappel et précision obtenus précédemment. "
   ]
  },
  {
   "cell_type": "code",
   "execution_count": 18,
   "metadata": {},
   "outputs": [],
   "source": [
    "# ROC Score requires OneHotEncoded vector \n",
    "x = [['find-around-me'], ['find-flight'], ['find-hotel'], ['find-restaurant'], ['find-train'], ['irrelevant'], ['provide-showtimes'], ['purchase']]\n",
    "encoder = OneHotEncoder().fit(x)\n",
    "y_test_encoded = encoder.transform(y_test.reshape(-1,1)).toarray()"
   ]
  },
  {
   "cell_type": "code",
   "execution_count": 19,
   "metadata": {},
   "outputs": [
    {
     "data": {
      "text/plain": [
       "0.5688356888514263"
      ]
     },
     "execution_count": 19,
     "metadata": {},
     "output_type": "execute_result"
    }
   ],
   "source": [
    "# ROC Score \n",
    "roc_auc_score(y_test_encoded, y_prediction_vect)"
   ]
  },
  {
   "cell_type": "markdown",
   "metadata": {},
   "source": [
    "##### Remarques : On a un ROC_AUC_Score plutôt bas, ce qui signifie que le modèle n'est pas capable de bien distinguer entre les classes."
   ]
  },
  {
   "cell_type": "code",
   "execution_count": 20,
   "metadata": {},
   "outputs": [
    {
     "data": {
      "image/png": "[encoded data removed]",
      "text/plain": [
       "<Figure size 720x720 with 1 Axes>"
      ]
     },
     "metadata": {
      "needs_background": "light"
     },
     "output_type": "display_data"
    }
   ],
   "source": [
    "# Compute ROC curve for each class\n",
    "labels = ['find-around-me','find-flight','find-hotel', 'find-restaurant', 'find-train',  'irrelevant', 'provide-showtimes', 'purchase']\n",
    "n_classes = len(labels)\n",
    "fpr = [0 for i in range(n_classes)]\n",
    "tpr = [0 for i in range(n_classes)]\n",
    "roc_auc = [0 for i in range(n_classes)]\n",
    "\n",
    "for i in range(n_classes):\n",
    "    fpr[i], tpr[i], _ = roc_curve(y_test_encoded[:, i], y_prediction_vect[:,i])\n",
    "    roc_auc[i] = auc(fpr[i], tpr[i])\n",
    "    \n",
    "# Plot of a ROC curve for all classes\n",
    "fig, ax = plt.subplots(figsize=(10,10))\n",
    "ax.plot([0, 1], [0, 1], 'k--')\n",
    "ax.set_xlim([0.0, 1.0])\n",
    "ax.set_ylim([0.0, 1.05])\n",
    "ax.set_xlabel('False Positive Rate')\n",
    "ax.set_ylabel('True Positive Rate')\n",
    "ax.set_title('Receiver Operating Characteristic Curve')\n",
    "for i in range(n_classes):\n",
    "    ax.plot(fpr[i], tpr[i], label='ROC curve (area = %0.2f) for label %s' % (roc_auc[i], labels[i]))\n",
    "ax.legend(loc=\"best\")\n",
    "ax.grid(alpha=.4)\n",
    "sns.despine()\n",
    "plt.show()"
   ]
  },
  {
   "cell_type": "markdown",
   "metadata": {},
   "source": [
    "##### Remarques :  On peut dire que le modèle est bon si l'aire sous la courbe est maximale. Or, ce n'est pas toujours le cas ici. Les classes find-restaurant et provide-showtimes ont un bon ROC_AUC_Score, ce qui signifie que les utérances appartenant à ces classes sont bien prédits.\n",
    "##### Par contre, pour les autres classes, il y a plus de faux positifs que de vrais positifs. Le modèle ne prédit pas bien ces classes."
   ]
  },
  {
   "cell_type": "markdown",
   "metadata": {},
   "source": [
    "#### Remarques : Les données d'entraînement ne semblent pas contenir de données nulles. Cette base est constituée de 8 classes et d'un total de 6035 données. La classe majoritaire est la classe 'irrelevant' et contient plus de 3800 données ce qui représente plus de la moitié de jeu de données d'entraînement. Le reste des classes contiennent très peu de données ce qui signifie un grand déséquilibre de ce jeu de données. On peut s'attendre à ce que cela influence les prédictions du modèle. \n"
   ]
  },
  {
   "cell_type": "code",
   "execution_count": 21,
   "metadata": {},
   "outputs": [
    {
     "name": "stdout",
     "output_type": "stream",
     "text": [
      "<class 'pandas.core.frame.DataFrame'>\n",
      "RangeIndex: 1065 entries, 0 to 1064\n",
      "Data columns (total 2 columns):\n",
      " #   Column    Non-Null Count  Dtype \n",
      "---  ------    --------------  ----- \n",
      " 0   intent    1065 non-null   object\n",
      " 1   sentence  1065 non-null   object\n",
      "dtypes: object(2)\n",
      "memory usage: 16.8+ KB\n"
     ]
    }
   ],
   "source": [
    "df_test.info()"
   ]
  },
  {
   "cell_type": "code",
   "execution_count": 22,
   "metadata": {},
   "outputs": [
    {
     "data": {
      "text/html": [
       "<div>\n",
       "<style scoped>\n",
       "    .dataframe tbody tr th:only-of-type {\n",
       "        vertical-align: middle;\n",
       "    }\n",
       "\n",
       "    .dataframe tbody tr th {\n",
       "        vertical-align: top;\n",
       "    }\n",
       "\n",
       "    .dataframe thead th {\n",
       "        text-align: right;\n",
       "    }\n",
       "</style>\n",
       "<table border=\"1\" class=\"dataframe\">\n",
       "  <thead>\n",
       "    <tr style=\"text-align: right;\">\n",
       "      <th></th>\n",
       "      <th>intent</th>\n",
       "      <th>sentence</th>\n",
       "    </tr>\n",
       "  </thead>\n",
       "  <tbody>\n",
       "    <tr>\n",
       "      <th>count</th>\n",
       "      <td>1065</td>\n",
       "      <td>1065</td>\n",
       "    </tr>\n",
       "    <tr>\n",
       "      <th>unique</th>\n",
       "      <td>8</td>\n",
       "      <td>1064</td>\n",
       "    </tr>\n",
       "    <tr>\n",
       "      <th>top</th>\n",
       "      <td>irrelevant</td>\n",
       "      <td>Est ce que tu connais des sites internet sur l...</td>\n",
       "    </tr>\n",
       "    <tr>\n",
       "      <th>freq</th>\n",
       "      <td>677</td>\n",
       "      <td>2</td>\n",
       "    </tr>\n",
       "  </tbody>\n",
       "</table>\n",
       "</div>"
      ],
      "text/plain": [
       "            intent                                           sentence\n",
       "count         1065                                               1065\n",
       "unique           8                                               1064\n",
       "top     irrelevant  Est ce que tu connais des sites internet sur l...\n",
       "freq           677                                                  2"
      ]
     },
     "execution_count": 22,
     "metadata": {},
     "output_type": "execute_result"
    }
   ],
   "source": [
    "df_test.describe()"
   ]
  },
  {
   "cell_type": "code",
   "execution_count": 23,
   "metadata": {},
   "outputs": [
    {
     "data": {
      "text/html": [
       "<div>\n",
       "<style scoped>\n",
       "    .dataframe tbody tr th:only-of-type {\n",
       "        vertical-align: middle;\n",
       "    }\n",
       "\n",
       "    .dataframe tbody tr th {\n",
       "        vertical-align: top;\n",
       "    }\n",
       "\n",
       "    .dataframe thead th {\n",
       "        text-align: right;\n",
       "    }\n",
       "</style>\n",
       "<table border=\"1\" class=\"dataframe\">\n",
       "  <thead>\n",
       "    <tr style=\"text-align: right;\">\n",
       "      <th></th>\n",
       "      <th>sentence</th>\n",
       "    </tr>\n",
       "    <tr>\n",
       "      <th>intent</th>\n",
       "      <th></th>\n",
       "    </tr>\n",
       "  </thead>\n",
       "  <tbody>\n",
       "    <tr>\n",
       "      <th>find-around-me</th>\n",
       "      <td>67</td>\n",
       "    </tr>\n",
       "    <tr>\n",
       "      <th>find-flight</th>\n",
       "      <td>24</td>\n",
       "    </tr>\n",
       "    <tr>\n",
       "      <th>find-hotel</th>\n",
       "      <td>55</td>\n",
       "    </tr>\n",
       "    <tr>\n",
       "      <th>find-restaurant</th>\n",
       "      <td>93</td>\n",
       "    </tr>\n",
       "    <tr>\n",
       "      <th>find-train</th>\n",
       "      <td>21</td>\n",
       "    </tr>\n",
       "    <tr>\n",
       "      <th>irrelevant</th>\n",
       "      <td>677</td>\n",
       "    </tr>\n",
       "    <tr>\n",
       "      <th>provide-showtimes</th>\n",
       "      <td>14</td>\n",
       "    </tr>\n",
       "    <tr>\n",
       "      <th>purchase</th>\n",
       "      <td>114</td>\n",
       "    </tr>\n",
       "  </tbody>\n",
       "</table>\n",
       "</div>"
      ],
      "text/plain": [
       "                   sentence\n",
       "intent                     \n",
       "find-around-me           67\n",
       "find-flight              24\n",
       "find-hotel               55\n",
       "find-restaurant          93\n",
       "find-train               21\n",
       "irrelevant              677\n",
       "provide-showtimes        14\n",
       "purchase                114"
      ]
     },
     "execution_count": 23,
     "metadata": {},
     "output_type": "execute_result"
    }
   ],
   "source": [
    "df_test.groupby('intent').count()"
   ]
  },
  {
   "cell_type": "markdown",
   "metadata": {},
   "source": [
    "##### Réponse / idées : \n",
    "Seuil de classification "
   ]
  },
  {
   "cell_type": "code",
   "execution_count": 24,
   "metadata": {},
   "outputs": [],
   "source": [
    "# Function that returns the sentence's intention and its probability\n",
    "def predictionScore(features) :\n",
    "    y_prediction = []\n",
    "    y_score = []\n",
    "    for sentence in features:\n",
    "        url = \"http://localhost:8080/api/intent?sentence=<\" + urllib.parse.quote(sentence) +\">\"\n",
    "        requete = urllib.request.urlopen(url)\n",
    "        result_requete = json.load(requete)\n",
    "        \n",
    "        # Only focuses on the max index \n",
    "        prediction_result = max(result_requete.items(), key=operator.itemgetter(1))[0]\n",
    "        prediction_score = max(result_requete.items(), key=operator.itemgetter(1))[1]\n",
    "        \n",
    "        y_prediction.append(prediction_result)\n",
    "        y_score.append(prediction_score)\n",
    "        \n",
    "    df_prediction_score = pd.DataFrame({'Intention':y_prediction, 'Scores':y_score})\n",
    "    \n",
    "    return df_prediction_score\n",
    "\n",
    "\n",
    "# Function that returns the probability of the ground truth\n",
    "def groundTruthScore(features, intentions) :\n",
    "    y_intention = []\n",
    "    y_score = []\n",
    "    \n",
    "    for i in range(len(features)):\n",
    "        url = \"http://localhost:8080/api/intent?sentence=<\" + urllib.parse.quote(features[i]) +\">\"\n",
    "        requete = urllib.request.urlopen(url)\n",
    "        result_requete = json.load(requete)\n",
    "        \n",
    "        y_intention.append(intentions[i])\n",
    "        y_score.append(result_requete[intentions[i]])\n",
    "        \n",
    "    df_ground_truth_score = pd.DataFrame({'Intention':y_intention, 'Scores':y_score})\n",
    "    \n",
    "    return df_ground_truth_score"
   ]
  },
  {
   "cell_type": "code",
   "execution_count": 25,
   "metadata": {},
   "outputs": [],
   "source": [
    "# Function that computes means and standard deviation\n",
    "def mean_std_score_label(scores):\n",
    "    labels = ['find-around-me','find-flight','find-hotel', 'find-restaurant', 'find-train',  'irrelevant', 'provide-showtimes', 'purchase']\n",
    "    \n",
    "    mean = []\n",
    "    std = []\n",
    "    for label in labels:\n",
    "        mean_label = scores.loc[scores['Intention'].isin([label]), 'Scores'].mean()\n",
    "        std_label = scores.loc[scores['Intention'].isin([label]), 'Scores'].std()\n",
    "        \n",
    "        mean.append(mean_label)\n",
    "        std.append(std_label)\n",
    "    \n",
    "    \n",
    "    mean_scores = pd.DataFrame({'Label':labels, 'Mean':mean, 'Standard deviation':std})\n",
    "    \n",
    "    return mean_scores"
   ]
  },
  {
   "cell_type": "code",
   "execution_count": 26,
   "metadata": {},
   "outputs": [
    {
     "name": "stdout",
     "output_type": "stream",
     "text": [
      "Ground Truth :\n",
      "\n",
      "               Label      Mean  Standard deviation\n",
      "0     find-around-me  0.302347            0.228291\n",
      "1        find-flight  0.285899            0.220907\n",
      "2         find-hotel  0.346231            0.265381\n",
      "3    find-restaurant  0.508404            0.256457\n",
      "4         find-train  0.458524            0.296442\n",
      "5         irrelevant  0.717477            0.180213\n",
      "6  provide-showtimes  0.249688            0.197148\n",
      "7           purchase  0.433410            0.239385\n",
      "\n",
      "\n",
      "\n",
      "Prediction :\n",
      "\n",
      "               Label      Mean  Standard deviation\n",
      "0     find-around-me  0.520302            0.170593\n",
      "1        find-flight  0.514546            0.197866\n",
      "2         find-hotel  0.628303            0.176036\n",
      "3    find-restaurant  0.623600            0.191023\n",
      "4         find-train  0.631442            0.163368\n",
      "5         irrelevant  0.689272            0.183049\n",
      "6  provide-showtimes  0.491745            0.149602\n",
      "7           purchase  0.571429            0.180522\n"
     ]
    }
   ],
   "source": [
    "ground_truth_score = groundTruthScore(x_test, y_test)\n",
    "print(\"Ground Truth :\\n\")\n",
    "mean_std_ground_truth = mean_std_score_label(ground_truth_score)\n",
    "print(mean_std_ground_truth)\n",
    "\n",
    "print(\"\\n\\n\")\n",
    "prediction_score = predictionScore(x_test)\n",
    "print(\"Prediction :\\n\")\n",
    "mean_std_prediction = mean_std_score_label(prediction_score)\n",
    "print(mean_std_prediction)"
   ]
  },
  {
   "cell_type": "markdown",
   "metadata": {},
   "source": [
    "##### Remarque : On constate que la moyenne pour le score de chaque classe est différente pour les vraies intentions et pour les intentions prédites par le modèle. Ainsi, afin de pouvoir mieux prédire les classes, on aurait tendance à vouloir fixer un seuil par classe, qui serait égal à la moyenne de score calculée pour chaque classe. Or, on constate que l'écart-type est trop élevé pour faire cela. En effet, il faudrait un écart-type insignifiant pour pouvoir fixer la moyenne de chaque classe comme seuil pour chaque classe. En effet, un écart-type insignifiant signifierait que les scores ne varient pas beaucoup.\n",
    "\n",
    "##### Sinon, on pourrait vouloir, fixer le score minimum obtenu pour chaque vraie intention, mais"
   ]
  },
  {
   "cell_type": "markdown",
   "metadata": {},
   "source": [
    "## Exercice 3"
   ]
  },
  {
   "cell_type": "code",
   "execution_count": 46,
   "metadata": {},
   "outputs": [
    {
     "name": "stderr",
     "output_type": "stream",
     "text": [
      "[nltk_data] Downloading package wordnet to\n",
      "[nltk_data]     C:\\Users\\hibsb\\AppData\\Roaming\\nltk_data...\n",
      "[nltk_data]   Package wordnet is already up-to-date!\n",
      "[nltk_data] Downloading package punkt to\n",
      "[nltk_data]     C:\\Users\\hibsb\\AppData\\Roaming\\nltk_data...\n",
      "[nltk_data]   Package punkt is already up-to-date!\n",
      "[nltk_data] Downloading package stopwords to\n",
      "[nltk_data]     C:\\Users\\hibsb\\AppData\\Roaming\\nltk_data...\n",
      "[nltk_data]   Package stopwords is already up-to-date!\n"
     ]
    }
   ],
   "source": [
    "import nltk\n",
    "from nltk.stem import WordNetLemmatizer\n",
    "from nltk.stem import PorterStemmer\n",
    "from nltk.corpus import stopwords\n",
    "\n",
    "nltk.download('wordnet')\n",
    "nltk.download('punkt')\n",
    "nltk.download('stopwords')\n",
    "\n",
    "from imblearn.over_sampling import RandomOverSampler\n",
    "from sklearn.pipeline import Pipeline\n",
    "from sklearn.feature_extraction.text import TfidfTransformer, CountVectorizer\n",
    "from sklearn.linear_model import SGDClassifier\n",
    "from sklearn.ensemble import RandomForestClassifier\n",
    "from sklearn.tree import DecisionTreeClassifier\n",
    "\n",
    "import texthero as hero\n",
    "from transformers import pipeline"
   ]
  },
  {
   "cell_type": "markdown",
   "metadata": {},
   "source": [
    "### Fonction de prétraitement du langage"
   ]
  },
  {
   "cell_type": "code",
   "execution_count": 28,
   "metadata": {},
   "outputs": [],
   "source": [
    "def punctuation(text):\n",
    "    text = text.replace(\",\", \" \")\n",
    "    text = text.replace(\":\", \" \")\n",
    "    text = text.replace(\".\", \" \")\n",
    "    text = text.replace(\"(\", \" \")\n",
    "    text = text.replace(\")\", \" \")\n",
    "    text = text.replace(\"|\", \" \")\n",
    "    text = text.replace(\"&\", \" \")\n",
    "    text = text.replace('\"', \" \")\n",
    "    text = text.replace(\"'\", \" \")\n",
    "    text = text.replace(\">\", \" \")\n",
    "    return text\n",
    "\n",
    "\n",
    "def abbreviation(text):\n",
    "    text = text.replace(\"j'\", \"je \")\n",
    "    text = text.replace(\"n'\", \"ne \")\n",
    "    text = text.replace(\"t'\", \"te \")\n",
    "    text = text.replace(\"m'\", \"me \")\n",
    "    text = text.replace(\"\\n\", \" \")\n",
    "    return text\n",
    "\n",
    "\n",
    "def stopwords_remove(text, language='french'):\n",
    "    lang_stopwords = set(stopwords.words(language))\n",
    "    token = [token for token in text.lower().split(\" \") if token != \" \" if token not in lang_stopwords]\n",
    "    text = \" \".join([\"\".join(token) for token in token])\n",
    "    return text\n",
    "\n",
    "\n",
    "def preprocessing(text, lex_analysis_method= None):\n",
    "    # Simple text standardisation\n",
    "    text = text.lower()\n",
    "    text = abbreviation(text)\n",
    "    text = punctuation(text)\n",
    "    text = stopwords_remove(text)\n",
    "    # Performing lexical analysis\n",
    "    if lex_analysis_method != 'stem':\n",
    "        lemmatizer = WordNetLemmatizer()\n",
    "        text = ' '.join([lemmatizer.lemmatize(x) for x in nltk.word_tokenize(text)])\n",
    "    elif lex_analysis_method == 'stem':\n",
    "        stemmer = PorterStemmer()\n",
    "        text = ' '.join([stemmer.stem(x) for x in nltk.word_tokenize(text)])\n",
    "    else :\n",
    "        return text\n",
    "    return text"
   ]
  },
  {
   "cell_type": "markdown",
   "metadata": {},
   "source": [
    "### Oversampling "
   ]
  },
  {
   "cell_type": "code",
   "execution_count": 30,
   "metadata": {},
   "outputs": [],
   "source": [
    "oversample = RandomOverSampler()\n",
    "x_over, y_over = oversample.fit_resample(x_train.reshape(-1, 1), y_train)"
   ]
  },
  {
   "cell_type": "markdown",
   "metadata": {},
   "source": [
    "### Entraînement du modèle"
   ]
  },
  {
   "cell_type": "code",
   "execution_count": 32,
   "metadata": {},
   "outputs": [
    {
     "name": "stdout",
     "output_type": "stream",
     "text": [
      "accuracy 0.8413145539906103\n",
      "                   precision    recall  f1-score   support\n",
      "\n",
      "   find-around-me       0.62      0.78      0.69        67\n",
      "      find-flight       0.81      0.92      0.86        24\n",
      "       find-hotel       0.60      0.89      0.72        55\n",
      "  find-restaurant       0.72      0.94      0.81        93\n",
      "       find-train       0.66      0.90      0.76        21\n",
      "       irrelevant       0.96      0.82      0.88       677\n",
      "provide-showtimes       0.76      0.93      0.84        14\n",
      "         purchase       0.78      0.89      0.83       114\n",
      "\n",
      "         accuracy                           0.84      1065\n",
      "        macro avg       0.74      0.88      0.80      1065\n",
      "     weighted avg       0.87      0.84      0.85      1065\n",
      "\n"
     ]
    }
   ],
   "source": [
    "sgd = Pipeline([('vect', CountVectorizer()),\n",
    "                ('tfidf', TfidfTransformer()),\n",
    "                ('clf', SGDClassifier(random_state=42)),\n",
    "               ])\n",
    "sgd.fit(x_over[:,0], y_over)\n",
    "\n",
    "y_pred = sgd.predict(x_test)\n",
    "\n",
    "print('accuracy %s' % accuracy_score(y_pred, y_test))\n",
    "print(classification_report(y_test, y_pred))"
   ]
  },
  {
   "cell_type": "code",
   "execution_count": 33,
   "metadata": {},
   "outputs": [
    {
     "name": "stdout",
     "output_type": "stream",
     "text": [
      "Balanced accuracy score : 0.8828263872076763\n"
     ]
    }
   ],
   "source": [
    "balanced_accuracy_over = balanced_accuracy_score(y_test, y_pred)\n",
    "print(\"Balanced accuracy score : \" + str(balanced_accuracy_over))"
   ]
  },
  {
   "cell_type": "markdown",
   "metadata": {},
   "source": [
    "### Texthero"
   ]
  },
  {
   "cell_type": "code",
   "execution_count": 35,
   "metadata": {},
   "outputs": [
    {
     "name": "stderr",
     "output_type": "stream",
     "text": [
      "Some weights of CamembertForMaskedLM were not initialized from the model checkpoint at camembert-base and are newly initialized: ['lm_head.decoder.bias']\n",
      "You should probably TRAIN this model on a down-stream task to be able to use it for predictions and inference.\n"
     ]
    },
    {
     "data": {
      "text/plain": [
       "[{'sequence': '<s> Je mange du chocolat</s>',\n",
       "  'score': 0.41783902049064636,\n",
       "  'token': 100,\n",
       "  'token_str': '▁Je'},\n",
       " {'sequence': '<s> je mange du chocolat</s>',\n",
       "  'score': 0.14882291853427887,\n",
       "  'token': 50,\n",
       "  'token_str': '▁je'},\n",
       " {'sequence': '<s> On mange du chocolat</s>',\n",
       "  'score': 0.04208674281835556,\n",
       "  'token': 201,\n",
       "  'token_str': '▁On'},\n",
       " {'sequence': '<s> Elle mange du chocolat</s>',\n",
       "  'score': 0.036471009254455566,\n",
       "  'token': 195,\n",
       "  'token_str': '▁Elle'},\n",
       " {'sequence': '<s> Maman mange du chocolat</s>',\n",
       "  'score': 0.026984261348843575,\n",
       "  'token': 12101,\n",
       "  'token_str': '▁Maman'}]"
      ]
     },
     "execution_count": 35,
     "metadata": {},
     "output_type": "execute_result"
    }
   ],
   "source": [
    "nlp = pipeline('fill-mask', model=\"camembert-base\")\n",
    "nlp('<mask> mange du chocolat')"
   ]
  },
  {
   "cell_type": "markdown",
   "metadata": {},
   "source": [
    "#### Ce qu'on veut faire :\n",
    "#### 1. preprocesser les phrases de toutes la base de données \n",
    "#### 2. enlever les données de la bdd qui sont vides ([])\n",
    "#### 3. remplacer certains mots pertinents dans la phrase grâce au nlp fill-mask"
   ]
  },
  {
   "cell_type": "code",
   "execution_count": 36,
   "metadata": {},
   "outputs": [],
   "source": [
    "df = df_train\n",
    "df['new'] = [preprocessing(x) for x in df[\"sentence\"]]\n",
    "df['new2'] = [x.split() for x in df['new']]\n",
    "df['new2'] = df['new2'].replace([], np.nan)\n",
    "df['new2'] = df['new2'].dropna()\n",
    "#nlp(df[\"new\"][0].split()[3] + df[\"new\"][0].split()[4])\n",
    "df['new3'] = [\" \".join(x).replace(x[0],\" <mask> \", 1) if len(x)>0 else np.nan for x in df['new2']]"
   ]
  },
  {
   "cell_type": "code",
   "execution_count": 37,
   "metadata": {},
   "outputs": [
    {
     "data": {
      "text/plain": [
       "0        <mask>  maximum loyer partir janvier si possible\n",
       "1                                                 <mask> \n",
       "2        <mask>  cabriolet hybrid moins 5m10 minimum 4...\n",
       "3                    <mask>  cher location vacances corse\n",
       "4                                 <mask>  utiliser nuit ?\n",
       "                              ...                        \n",
       "6030     <mask>  suggestion hôtel 4 * prague - budget ...\n",
       "6031                            <mask>  bien dirais pense\n",
       "6032                                      <mask>  dilemme\n",
       "6033                                     <mask>  triste ?\n",
       "6034     <mask>  loin limite budget cuisine traditionn...\n",
       "Name: new3, Length: 6035, dtype: object"
      ]
     },
     "execution_count": 37,
     "metadata": {},
     "output_type": "execute_result"
    }
   ],
   "source": [
    "df['new3']"
   ]
  },
  {
   "cell_type": "code",
   "execution_count": 38,
   "metadata": {},
   "outputs": [
    {
     "ename": "KeyError",
     "evalue": "'new5'",
     "output_type": "error",
     "traceback": [
      "\u001b[1;31m---------------------------------------------------------------------------\u001b[0m",
      "\u001b[1;31mKeyError\u001b[0m                                  Traceback (most recent call last)",
      "\u001b[1;32m~\\Anaconda3\\lib\\site-packages\\pandas\\core\\indexes\\base.py\u001b[0m in \u001b[0;36mget_loc\u001b[1;34m(self, key, method, tolerance)\u001b[0m\n\u001b[0;32m   2890\u001b[0m             \u001b[1;32mtry\u001b[0m\u001b[1;33m:\u001b[0m\u001b[1;33m\u001b[0m\u001b[1;33m\u001b[0m\u001b[0m\n\u001b[1;32m-> 2891\u001b[1;33m                 \u001b[1;32mreturn\u001b[0m \u001b[0mself\u001b[0m\u001b[1;33m.\u001b[0m\u001b[0m_engine\u001b[0m\u001b[1;33m.\u001b[0m\u001b[0mget_loc\u001b[0m\u001b[1;33m(\u001b[0m\u001b[0mcasted_key\u001b[0m\u001b[1;33m)\u001b[0m\u001b[1;33m\u001b[0m\u001b[1;33m\u001b[0m\u001b[0m\n\u001b[0m\u001b[0;32m   2892\u001b[0m             \u001b[1;32mexcept\u001b[0m \u001b[0mKeyError\u001b[0m \u001b[1;32mas\u001b[0m \u001b[0merr\u001b[0m\u001b[1;33m:\u001b[0m\u001b[1;33m\u001b[0m\u001b[1;33m\u001b[0m\u001b[0m\n",
      "\u001b[1;32mpandas\\_libs\\index.pyx\u001b[0m in \u001b[0;36mpandas._libs.index.IndexEngine.get_loc\u001b[1;34m()\u001b[0m\n",
      "\u001b[1;32mpandas\\_libs\\index.pyx\u001b[0m in \u001b[0;36mpandas._libs.index.IndexEngine.get_loc\u001b[1;34m()\u001b[0m\n",
      "\u001b[1;32mpandas\\_libs\\hashtable_class_helper.pxi\u001b[0m in \u001b[0;36mpandas._libs.hashtable.PyObjectHashTable.get_item\u001b[1;34m()\u001b[0m\n",
      "\u001b[1;32mpandas\\_libs\\hashtable_class_helper.pxi\u001b[0m in \u001b[0;36mpandas._libs.hashtable.PyObjectHashTable.get_item\u001b[1;34m()\u001b[0m\n",
      "\u001b[1;31mKeyError\u001b[0m: 'new5'",
      "\nThe above exception was the direct cause of the following exception:\n",
      "\u001b[1;31mKeyError\u001b[0m                                  Traceback (most recent call last)",
      "\u001b[1;32m<ipython-input-38-c81df0e30ab2>\u001b[0m in \u001b[0;36m<module>\u001b[1;34m\u001b[0m\n\u001b[1;32m----> 1\u001b[1;33m \u001b[0mdf\u001b[0m\u001b[1;33m[\u001b[0m\u001b[1;34m'new4'\u001b[0m\u001b[1;33m]\u001b[0m \u001b[1;33m=\u001b[0m \u001b[1;33m[\u001b[0m\u001b[0mnlp\u001b[0m\u001b[1;33m(\u001b[0m\u001b[0mx\u001b[0m\u001b[1;33m)\u001b[0m \u001b[1;32mif\u001b[0m \u001b[0mx\u001b[0m \u001b[1;33m!=\u001b[0m \u001b[0mnp\u001b[0m\u001b[1;33m.\u001b[0m\u001b[0mnan\u001b[0m \u001b[1;32melse\u001b[0m \u001b[0mnp\u001b[0m\u001b[1;33m.\u001b[0m\u001b[0mnan\u001b[0m \u001b[1;32mfor\u001b[0m \u001b[0mx\u001b[0m \u001b[1;32min\u001b[0m \u001b[0mdf\u001b[0m\u001b[1;33m[\u001b[0m\u001b[1;34m\"new5\"\u001b[0m\u001b[1;33m]\u001b[0m\u001b[1;33m]\u001b[0m\u001b[1;33m\u001b[0m\u001b[1;33m\u001b[0m\u001b[0m\n\u001b[0m\u001b[0;32m      2\u001b[0m \u001b[0mdf\u001b[0m\u001b[1;33m[\u001b[0m\u001b[1;34m'new4'\u001b[0m\u001b[1;33m]\u001b[0m\u001b[1;33m\u001b[0m\u001b[1;33m\u001b[0m\u001b[0m\n",
      "\u001b[1;32m~\\Anaconda3\\lib\\site-packages\\pandas\\core\\frame.py\u001b[0m in \u001b[0;36m__getitem__\u001b[1;34m(self, key)\u001b[0m\n\u001b[0;32m   2900\u001b[0m             \u001b[1;32mif\u001b[0m \u001b[0mself\u001b[0m\u001b[1;33m.\u001b[0m\u001b[0mcolumns\u001b[0m\u001b[1;33m.\u001b[0m\u001b[0mnlevels\u001b[0m \u001b[1;33m>\u001b[0m \u001b[1;36m1\u001b[0m\u001b[1;33m:\u001b[0m\u001b[1;33m\u001b[0m\u001b[1;33m\u001b[0m\u001b[0m\n\u001b[0;32m   2901\u001b[0m                 \u001b[1;32mreturn\u001b[0m \u001b[0mself\u001b[0m\u001b[1;33m.\u001b[0m\u001b[0m_getitem_multilevel\u001b[0m\u001b[1;33m(\u001b[0m\u001b[0mkey\u001b[0m\u001b[1;33m)\u001b[0m\u001b[1;33m\u001b[0m\u001b[1;33m\u001b[0m\u001b[0m\n\u001b[1;32m-> 2902\u001b[1;33m             \u001b[0mindexer\u001b[0m \u001b[1;33m=\u001b[0m \u001b[0mself\u001b[0m\u001b[1;33m.\u001b[0m\u001b[0mcolumns\u001b[0m\u001b[1;33m.\u001b[0m\u001b[0mget_loc\u001b[0m\u001b[1;33m(\u001b[0m\u001b[0mkey\u001b[0m\u001b[1;33m)\u001b[0m\u001b[1;33m\u001b[0m\u001b[1;33m\u001b[0m\u001b[0m\n\u001b[0m\u001b[0;32m   2903\u001b[0m             \u001b[1;32mif\u001b[0m \u001b[0mis_integer\u001b[0m\u001b[1;33m(\u001b[0m\u001b[0mindexer\u001b[0m\u001b[1;33m)\u001b[0m\u001b[1;33m:\u001b[0m\u001b[1;33m\u001b[0m\u001b[1;33m\u001b[0m\u001b[0m\n\u001b[0;32m   2904\u001b[0m                 \u001b[0mindexer\u001b[0m \u001b[1;33m=\u001b[0m \u001b[1;33m[\u001b[0m\u001b[0mindexer\u001b[0m\u001b[1;33m]\u001b[0m\u001b[1;33m\u001b[0m\u001b[1;33m\u001b[0m\u001b[0m\n",
      "\u001b[1;32m~\\Anaconda3\\lib\\site-packages\\pandas\\core\\indexes\\base.py\u001b[0m in \u001b[0;36mget_loc\u001b[1;34m(self, key, method, tolerance)\u001b[0m\n\u001b[0;32m   2891\u001b[0m                 \u001b[1;32mreturn\u001b[0m \u001b[0mself\u001b[0m\u001b[1;33m.\u001b[0m\u001b[0m_engine\u001b[0m\u001b[1;33m.\u001b[0m\u001b[0mget_loc\u001b[0m\u001b[1;33m(\u001b[0m\u001b[0mcasted_key\u001b[0m\u001b[1;33m)\u001b[0m\u001b[1;33m\u001b[0m\u001b[1;33m\u001b[0m\u001b[0m\n\u001b[0;32m   2892\u001b[0m             \u001b[1;32mexcept\u001b[0m \u001b[0mKeyError\u001b[0m \u001b[1;32mas\u001b[0m \u001b[0merr\u001b[0m\u001b[1;33m:\u001b[0m\u001b[1;33m\u001b[0m\u001b[1;33m\u001b[0m\u001b[0m\n\u001b[1;32m-> 2893\u001b[1;33m                 \u001b[1;32mraise\u001b[0m \u001b[0mKeyError\u001b[0m\u001b[1;33m(\u001b[0m\u001b[0mkey\u001b[0m\u001b[1;33m)\u001b[0m \u001b[1;32mfrom\u001b[0m \u001b[0merr\u001b[0m\u001b[1;33m\u001b[0m\u001b[1;33m\u001b[0m\u001b[0m\n\u001b[0m\u001b[0;32m   2894\u001b[0m \u001b[1;33m\u001b[0m\u001b[0m\n\u001b[0;32m   2895\u001b[0m         \u001b[1;32mif\u001b[0m \u001b[0mtolerance\u001b[0m \u001b[1;32mis\u001b[0m \u001b[1;32mnot\u001b[0m \u001b[1;32mNone\u001b[0m\u001b[1;33m:\u001b[0m\u001b[1;33m\u001b[0m\u001b[1;33m\u001b[0m\u001b[0m\n",
      "\u001b[1;31mKeyError\u001b[0m: 'new5'"
     ]
    }
   ],
   "source": [
    "df['new4'] = [nlp(x) if x != np.nan else np.nan for x in df[\"new5\"]] \n",
    "df['new4']"
   ]
  },
  {
   "cell_type": "code",
   "execution_count": 39,
   "metadata": {},
   "outputs": [
    {
     "data": {
      "text/plain": [
       "0       <class 'str'>\n",
       "1       <class 'str'>\n",
       "2       <class 'str'>\n",
       "3       <class 'str'>\n",
       "4       <class 'str'>\n",
       "            ...      \n",
       "6030    <class 'str'>\n",
       "6031    <class 'str'>\n",
       "6032    <class 'str'>\n",
       "6033    <class 'str'>\n",
       "6034    <class 'str'>\n",
       "Name: new5, Length: 6035, dtype: object"
      ]
     },
     "execution_count": 39,
     "metadata": {},
     "output_type": "execute_result"
    }
   ],
   "source": [
    "df['new5'] = [type(x) for x in df[\"new3\"]]\n",
    "df['new5']"
   ]
  },
  {
   "cell_type": "code",
   "execution_count": 41,
   "metadata": {},
   "outputs": [
    {
     "data": {
      "text/plain": [
       "6"
      ]
     },
     "execution_count": 41,
     "metadata": {},
     "output_type": "execute_result"
    }
   ],
   "source": [
    "df[\"new5\"][df[\"new5\"]!=str].count()"
   ]
  },
  {
   "cell_type": "code",
   "execution_count": 42,
   "metadata": {},
   "outputs": [
    {
     "data": {
      "text/plain": [
       "Int64Index([   0,    1,    2,    3,    4,    5,    6,    7,    8,    9,\n",
       "            ...\n",
       "            6025, 6026, 6027, 6028, 6029, 6030, 6031, 6032, 6033, 6034],\n",
       "           dtype='int64', length=6035)"
      ]
     },
     "execution_count": 42,
     "metadata": {},
     "output_type": "execute_result"
    }
   ],
   "source": [
    "df[\"new5\"][df[\"new5\"]!=list].index"
   ]
  },
  {
   "cell_type": "code",
   "execution_count": 43,
   "metadata": {},
   "outputs": [],
   "source": [
    "df[\"new5\"] = df[\"new5\"].drop(df[\"new5\"][df[\"new5\"]!=str].index)"
   ]
  },
  {
   "cell_type": "code",
   "execution_count": 44,
   "metadata": {},
   "outputs": [
    {
     "data": {
      "text/plain": [
       "Int64Index([   0,    1,    2,    3,    4,    5,    6,    7,    8,    9,\n",
       "            ...\n",
       "            6025, 6026, 6027, 6028, 6029, 6030, 6031, 6032, 6033, 6034],\n",
       "           dtype='int64', length=6035)"
      ]
     },
     "execution_count": 44,
     "metadata": {},
     "output_type": "execute_result"
    }
   ],
   "source": [
    "df[\"new5\"][df[\"new5\"]!=list].index"
   ]
  },
  {
   "cell_type": "code",
   "execution_count": 45,
   "metadata": {},
   "outputs": [
    {
     "data": {
      "text/plain": [
       "0"
      ]
     },
     "execution_count": 45,
     "metadata": {},
     "output_type": "execute_result"
    }
   ],
   "source": [
    "df[\"new5\"][df[\"new5\"]!=str].count()"
   ]
  },
  {
   "cell_type": "markdown",
   "metadata": {},
   "source": [
    "## Exercice 4"
   ]
  },
  {
   "cell_type": "markdown",
   "metadata": {},
   "source": [
    "##### Réponse / idées : "
   ]
  },
  {
   "cell_type": "code",
   "execution_count": null,
   "metadata": {},
   "outputs": [],
   "source": []
  },
  {
   "cell_type": "markdown",
   "metadata": {},
   "source": [
    "## Exercice 5"
   ]
  },
  {
   "cell_type": "markdown",
   "metadata": {},
   "source": [
    "##### Réponse / idées : "
   ]
  },
  {
   "cell_type": "code",
   "execution_count": null,
   "metadata": {},
   "outputs": [],
   "source": []
  }
 ],
 "metadata": {
  "kernelspec": {
   "display_name": "Python 3",
   "language": "python",
   "name": "python3"
  },
  "language_info": {
   "codemirror_mode": {
    "name": "ipython",
    "version": 3
   },
   "file_extension": ".py",
   "mimetype": "text/x-python",
   "name": "python",
   "nbconvert_exporter": "python",
   "pygments_lexer": "ipython3",
   "version": "3.6.9"
  }
 },
 "nbformat": 4,
 "nbformat_minor": 4
}
